{
 "cells": [
  {
   "cell_type": "code",
   "execution_count": 12,
   "metadata": {},
   "outputs": [],
   "source": [
    "import pandas as pd\n",
    "import os\n",
    "from scipy.sparse import csr_matrix\n",
    "import numpy as np\n",
    "from IPython.display import display_html\n",
    "import warnings\n",
    "\n",
    "import matplotlib.pyplot as plt\n",
    "from matplotlib.gridspec import GridSpec\n",
    "import seaborn as sns\n",
    "%matplotlib inline\n",
    "import lightfm\n",
    "from lightfm.cross_validation import random_train_test_split\n",
    "from lightfm.evaluation import auc_score, precision_at_k, recall_at_k\n",
    "from lightfm import LightFM\n",
    "from skopt import forest_minimize\n",
    "\n",
    "def display_side_by_side(*args):\n",
    "    html_str = ''\n",
    "    for df in args:\n",
    "        html_str += df.to_html()\n",
    "    display_html(html_str.replace(\n",
    "        'table', 'table style=\"display:inline\"'), raw = True)"
   ]
  },
  {
   "cell_type": "code",
   "execution_count": 15,
   "metadata": {},
   "outputs": [],
   "source": [
    "books_metadata = pd.read_json('c://Users/pr1266/Desktop/recommander_system/goodreads_books_poetry.json', lines=True)\n",
    "interactions = pd.read_json('c://Users/pr1266/Desktop/recommander_system/goodreads_interactions_poetry.json', lines=True)"
   ]
  },
  {
   "cell_type": "code",
   "execution_count": 16,
   "metadata": {},
   "outputs": [
    {
     "data": {
      "text/plain": [
       "array(['isbn', 'text_reviews_count', 'series', 'country_code',\n",
       "       'language_code', 'popular_shelves', 'asin', 'is_ebook',\n",
       "       'average_rating', 'kindle_asin', 'similar_books', 'description',\n",
       "       'format', 'link', 'authors', 'publisher', 'num_pages',\n",
       "       'publication_day', 'isbn13', 'publication_month',\n",
       "       'edition_information', 'publication_year', 'url', 'image_url',\n",
       "       'book_id', 'ratings_count', 'work_id', 'title',\n",
       "       'title_without_series'], dtype=object)"
      ]
     },
     "execution_count": 16,
     "metadata": {},
     "output_type": "execute_result"
    }
   ],
   "source": [
    "books_metadata.columns.values"
   ]
  },
  {
   "cell_type": "code",
   "execution_count": 17,
   "metadata": {},
   "outputs": [
    {
     "data": {
      "text/plain": [
       "(36514, 29)"
      ]
     },
     "execution_count": 17,
     "metadata": {},
     "output_type": "execute_result"
    }
   ],
   "source": [
    "books_metadata.sample(2)\n",
    "books_metadata.shape"
   ]
  },
  {
   "cell_type": "code",
   "execution_count": 18,
   "metadata": {},
   "outputs": [
    {
     "data": {
      "text/html": [
       "<div>\n",
       "<style scoped>\n",
       "    .dataframe tbody tr th:only-of-type {\n",
       "        vertical-align: middle;\n",
       "    }\n",
       "\n",
       "    .dataframe tbody tr th {\n",
       "        vertical-align: top;\n",
       "    }\n",
       "\n",
       "    .dataframe thead th {\n",
       "        text-align: right;\n",
       "    }\n",
       "</style>\n",
       "<table border=\"1\" class=\"dataframe\">\n",
       "  <thead>\n",
       "    <tr style=\"text-align: right;\">\n",
       "      <th></th>\n",
       "      <th>book_id</th>\n",
       "      <th>average_rating</th>\n",
       "      <th>is_ebook</th>\n",
       "      <th>num_pages</th>\n",
       "      <th>publication_year</th>\n",
       "      <th>ratings_count</th>\n",
       "      <th>language_code</th>\n",
       "    </tr>\n",
       "  </thead>\n",
       "  <tbody>\n",
       "    <tr>\n",
       "      <th>23711</th>\n",
       "      <td>525111</td>\n",
       "      <td>3.97</td>\n",
       "      <td>false</td>\n",
       "      <td>132</td>\n",
       "      <td>2005</td>\n",
       "      <td>83</td>\n",
       "      <td></td>\n",
       "    </tr>\n",
       "    <tr>\n",
       "      <th>12931</th>\n",
       "      <td>705822</td>\n",
       "      <td>4.25</td>\n",
       "      <td>false</td>\n",
       "      <td>256</td>\n",
       "      <td>2007</td>\n",
       "      <td>11</td>\n",
       "      <td></td>\n",
       "    </tr>\n",
       "    <tr>\n",
       "      <th>22458</th>\n",
       "      <td>8075404</td>\n",
       "      <td>4.34</td>\n",
       "      <td>false</td>\n",
       "      <td>535</td>\n",
       "      <td>2010</td>\n",
       "      <td>209</td>\n",
       "      <td></td>\n",
       "    </tr>\n",
       "    <tr>\n",
       "      <th>35759</th>\n",
       "      <td>13591348</td>\n",
       "      <td>4.64</td>\n",
       "      <td>false</td>\n",
       "      <td>84</td>\n",
       "      <td>2012</td>\n",
       "      <td>28</td>\n",
       "      <td></td>\n",
       "    </tr>\n",
       "    <tr>\n",
       "      <th>28594</th>\n",
       "      <td>1226393</td>\n",
       "      <td>4.33</td>\n",
       "      <td>false</td>\n",
       "      <td>60</td>\n",
       "      <td>2001</td>\n",
       "      <td>3</td>\n",
       "      <td></td>\n",
       "    </tr>\n",
       "  </tbody>\n",
       "</table>\n",
       "</div>"
      ],
      "text/plain": [
       "        book_id  average_rating is_ebook num_pages publication_year  \\\n",
       "23711    525111            3.97    false       132             2005   \n",
       "12931    705822            4.25    false       256             2007   \n",
       "22458   8075404            4.34    false       535             2010   \n",
       "35759  13591348            4.64    false        84             2012   \n",
       "28594   1226393            4.33    false        60             2001   \n",
       "\n",
       "       ratings_count language_code  \n",
       "23711             83                \n",
       "12931             11                \n",
       "22458            209                \n",
       "35759             28                \n",
       "28594              3                "
      ]
     },
     "execution_count": 18,
     "metadata": {},
     "output_type": "execute_result"
    }
   ],
   "source": [
    "books_metadata_selected = books_metadata[['book_id', 'average_rating', 'is_ebook', 'num_pages', \n",
    "                                          'publication_year', 'ratings_count', 'language_code']]\n",
    "books_metadata_selected.sample(5)"
   ]
  },
  {
   "cell_type": "code",
   "execution_count": 20,
   "metadata": {},
   "outputs": [
    {
     "data": {
      "application/vnd.jupyter.widget-view+json": {
       "model_id": "fc131446f50b44f68c44f76337e75a65",
       "version_major": 2,
       "version_minor": 0
      },
      "text/plain": [
       "HBox(children=(FloatProgress(value=0.0, description='Summarize dataset', max=19.0, style=ProgressStyle(descrip…"
      ]
     },
     "metadata": {},
     "output_type": "display_data"
    },
    {
     "name": "stdout",
     "output_type": "stream",
     "text": [
      "\n"
     ]
    },
    {
     "data": {
      "application/vnd.jupyter.widget-view+json": {
       "model_id": "2a503f7ed2894ab1ac45174835041087",
       "version_major": 2,
       "version_minor": 0
      },
      "text/plain": [
       "HBox(children=(FloatProgress(value=0.0, description='Generate report structure', max=1.0, style=ProgressStyle(…"
      ]
     },
     "metadata": {},
     "output_type": "display_data"
    },
    {
     "name": "stdout",
     "output_type": "stream",
     "text": [
      "\n"
     ]
    },
    {
     "data": {
      "application/vnd.jupyter.widget-view+json": {
       "model_id": "a56bc811ed9947179aa104f9ae09dc9e",
       "version_major": 2,
       "version_minor": 0
      },
      "text/plain": [
       "HBox(children=(FloatProgress(value=0.0, description='Render HTML', max=1.0, style=ProgressStyle(description_wi…"
      ]
     },
     "metadata": {},
     "output_type": "display_data"
    },
    {
     "name": "stdout",
     "output_type": "stream",
     "text": [
      "\n"
     ]
    },
    {
     "data": {
      "application/vnd.jupyter.widget-view+json": {
       "model_id": "3c2e0622ba2948c5a45f689a02e937e2",
       "version_major": 2,
       "version_minor": 0
      },
      "text/plain": [
       "HBox(children=(FloatProgress(value=0.0, description='Export report to file', max=1.0, style=ProgressStyle(desc…"
      ]
     },
     "metadata": {},
     "output_type": "display_data"
    },
    {
     "name": "stdout",
     "output_type": "stream",
     "text": [
      "\n"
     ]
    }
   ],
   "source": [
    "import pandas_profiling\n",
    "import numpy as np\n",
    "\n",
    "books_metadata_selected.replace('', np.nan, inplace=True)\n",
    "profile = pandas_profiling.ProfileReport(books_metadata_selected[['average_rating', 'is_ebook', 'num_pages', \n",
    "                                                                  'publication_year', 'ratings_count']])\n",
    "profile.to_file('profiler_books_metadata_1.html')"
   ]
  },
  {
   "cell_type": "code",
   "execution_count": 21,
   "metadata": {},
   "outputs": [],
   "source": [
    "\n",
    "books_metadata_selected['num_pages'].replace(np.nan, -1, inplace = True)\n",
    "books_metadata_selected['num_pages'] = pd.to_numeric(books_metadata_selected['num_pages'])\n",
    "books_metadata_selected['num_pages'] = pd.cut(books_metadata_selected['num_pages'], bins=25)\n",
    "books_metadata_selected['average_rating'] = books_metadata_selected['average_rating'].apply(lambda x: round(x * 2) / 2)\n",
    "books_metadata_selected['ratings_count'] = pd.qcut(books_metadata_selected['ratings_count'], 25)\n",
    "books_metadata_selected['publication_year'].replace(np.nan, 2100, inplace = True)\n",
    "books_metadata_selected['language_code'].replace(np.nan, 'unknown', inplace = True)\n",
    "books_metadata_selected['is_ebook'] = books_metadata_selected.is_ebook.map(\n",
    "    lambda x: 1.0 * (x == 'true'))"
   ]
  },
  {
   "cell_type": "code",
   "execution_count": 23,
   "metadata": {},
   "outputs": [
    {
     "data": {
      "application/vnd.jupyter.widget-view+json": {
       "model_id": "a55aa37b1d904212ae28cffff4c2d033",
       "version_major": 2,
       "version_minor": 0
      },
      "text/plain": [
       "HBox(children=(FloatProgress(value=0.0, description='Summarize dataset', max=19.0, style=ProgressStyle(descrip…"
      ]
     },
     "metadata": {},
     "output_type": "display_data"
    },
    {
     "name": "stdout",
     "output_type": "stream",
     "text": [
      "\n"
     ]
    },
    {
     "data": {
      "application/vnd.jupyter.widget-view+json": {
       "model_id": "75ea8d7b724a4f32ab012bf243b6c0ef",
       "version_major": 2,
       "version_minor": 0
      },
      "text/plain": [
       "HBox(children=(FloatProgress(value=0.0, description='Generate report structure', max=1.0, style=ProgressStyle(…"
      ]
     },
     "metadata": {},
     "output_type": "display_data"
    },
    {
     "name": "stdout",
     "output_type": "stream",
     "text": [
      "\n"
     ]
    },
    {
     "data": {
      "application/vnd.jupyter.widget-view+json": {
       "model_id": "fd91f729f0484353907310a8208bba81",
       "version_major": 2,
       "version_minor": 0
      },
      "text/plain": [
       "HBox(children=(FloatProgress(value=0.0, description='Render HTML', max=1.0, style=ProgressStyle(description_wi…"
      ]
     },
     "metadata": {},
     "output_type": "display_data"
    },
    {
     "name": "stdout",
     "output_type": "stream",
     "text": [
      "\n"
     ]
    },
    {
     "data": {
      "application/vnd.jupyter.widget-view+json": {
       "model_id": "6296e2d990a049d5922c635035b317a4",
       "version_major": 2,
       "version_minor": 0
      },
      "text/plain": [
       "HBox(children=(FloatProgress(value=0.0, description='Export report to file', max=1.0, style=ProgressStyle(desc…"
      ]
     },
     "metadata": {},
     "output_type": "display_data"
    },
    {
     "name": "stdout",
     "output_type": "stream",
     "text": [
      "\n"
     ]
    }
   ],
   "source": [
    "profile = pandas_profiling.ProfileReport(books_metadata_selected[['average_rating', 'is_ebook', 'num_pages', \n",
    "                                                        'publication_year', 'ratings_count']])\n",
    "profile.to_file('profiler_books_metadata_2.html')"
   ]
  },
  {
   "cell_type": "code",
   "execution_count": 24,
   "metadata": {},
   "outputs": [
    {
     "data": {
      "text/html": [
       "<div>\n",
       "<style scoped>\n",
       "    .dataframe tbody tr th:only-of-type {\n",
       "        vertical-align: middle;\n",
       "    }\n",
       "\n",
       "    .dataframe tbody tr th {\n",
       "        vertical-align: top;\n",
       "    }\n",
       "\n",
       "    .dataframe thead th {\n",
       "        text-align: right;\n",
       "    }\n",
       "</style>\n",
       "<table border=\"1\" class=\"dataframe\">\n",
       "  <thead>\n",
       "    <tr style=\"text-align: right;\">\n",
       "      <th></th>\n",
       "      <th>book_id</th>\n",
       "      <th>average_rating</th>\n",
       "      <th>is_ebook</th>\n",
       "      <th>num_pages</th>\n",
       "      <th>publication_year</th>\n",
       "      <th>ratings_count</th>\n",
       "      <th>language_code</th>\n",
       "    </tr>\n",
       "  </thead>\n",
       "  <tbody>\n",
       "    <tr>\n",
       "      <th>2474</th>\n",
       "      <td>268009</td>\n",
       "      <td>4.0</td>\n",
       "      <td>0.0</td>\n",
       "      <td>(-11.961, 437.44]</td>\n",
       "      <td>2001</td>\n",
       "      <td>(49.0, 59.0]</td>\n",
       "      <td>unknown</td>\n",
       "    </tr>\n",
       "    <tr>\n",
       "      <th>22195</th>\n",
       "      <td>11687703</td>\n",
       "      <td>4.0</td>\n",
       "      <td>0.0</td>\n",
       "      <td>(-11.961, 437.44]</td>\n",
       "      <td>2001</td>\n",
       "      <td>(14.0, 16.0]</td>\n",
       "      <td>per</td>\n",
       "    </tr>\n",
       "    <tr>\n",
       "      <th>3117</th>\n",
       "      <td>140025</td>\n",
       "      <td>4.0</td>\n",
       "      <td>0.0</td>\n",
       "      <td>(-11.961, 437.44]</td>\n",
       "      <td>2005</td>\n",
       "      <td>(94.0, 125.0]</td>\n",
       "      <td>unknown</td>\n",
       "    </tr>\n",
       "    <tr>\n",
       "      <th>19747</th>\n",
       "      <td>15724823</td>\n",
       "      <td>5.0</td>\n",
       "      <td>1.0</td>\n",
       "      <td>(-11.961, 437.44]</td>\n",
       "      <td>2012</td>\n",
       "      <td>(5.0, 7.0]</td>\n",
       "      <td>eng</td>\n",
       "    </tr>\n",
       "    <tr>\n",
       "      <th>149</th>\n",
       "      <td>6554190</td>\n",
       "      <td>3.0</td>\n",
       "      <td>0.0</td>\n",
       "      <td>(-11.961, 437.44]</td>\n",
       "      <td>1986</td>\n",
       "      <td>(25.0, 29.0]</td>\n",
       "      <td>per</td>\n",
       "    </tr>\n",
       "  </tbody>\n",
       "</table>\n",
       "</div>"
      ],
      "text/plain": [
       "        book_id  average_rating  is_ebook          num_pages publication_year  \\\n",
       "2474     268009             4.0       0.0  (-11.961, 437.44]             2001   \n",
       "22195  11687703             4.0       0.0  (-11.961, 437.44]             2001   \n",
       "3117     140025             4.0       0.0  (-11.961, 437.44]             2005   \n",
       "19747  15724823             5.0       1.0  (-11.961, 437.44]             2012   \n",
       "149     6554190             3.0       0.0  (-11.961, 437.44]             1986   \n",
       "\n",
       "       ratings_count language_code  \n",
       "2474    (49.0, 59.0]       unknown  \n",
       "22195   (14.0, 16.0]           per  \n",
       "3117   (94.0, 125.0]       unknown  \n",
       "19747     (5.0, 7.0]           eng  \n",
       "149     (25.0, 29.0]           per  "
      ]
     },
     "execution_count": 24,
     "metadata": {},
     "output_type": "execute_result"
    }
   ],
   "source": [
    "books_metadata_selected.sample(5)"
   ]
  },
  {
   "cell_type": "code",
   "execution_count": 25,
   "metadata": {},
   "outputs": [
    {
     "data": {
      "text/plain": [
       "array(['user_id', 'book_id', 'review_id', 'is_read', 'rating',\n",
       "       'review_text_incomplete', 'date_added', 'date_updated', 'read_at',\n",
       "       'started_at'], dtype=object)"
      ]
     },
     "execution_count": 25,
     "metadata": {},
     "output_type": "execute_result"
    }
   ],
   "source": [
    "interactions.columns.values"
   ]
  },
  {
   "cell_type": "code",
   "execution_count": 26,
   "metadata": {},
   "outputs": [
    {
     "data": {
      "text/html": [
       "<div>\n",
       "<style scoped>\n",
       "    .dataframe tbody tr th:only-of-type {\n",
       "        vertical-align: middle;\n",
       "    }\n",
       "\n",
       "    .dataframe tbody tr th {\n",
       "        vertical-align: top;\n",
       "    }\n",
       "\n",
       "    .dataframe thead th {\n",
       "        text-align: right;\n",
       "    }\n",
       "</style>\n",
       "<table border=\"1\" class=\"dataframe\">\n",
       "  <thead>\n",
       "    <tr style=\"text-align: right;\">\n",
       "      <th></th>\n",
       "      <th>user_id</th>\n",
       "      <th>book_id</th>\n",
       "      <th>review_id</th>\n",
       "      <th>is_read</th>\n",
       "      <th>rating</th>\n",
       "      <th>review_text_incomplete</th>\n",
       "      <th>date_added</th>\n",
       "      <th>date_updated</th>\n",
       "      <th>read_at</th>\n",
       "      <th>started_at</th>\n",
       "    </tr>\n",
       "  </thead>\n",
       "  <tbody>\n",
       "    <tr>\n",
       "      <th>1791717</th>\n",
       "      <td>c5823767a1a164cd8e9d029f1806f2aa</td>\n",
       "      <td>23337740</td>\n",
       "      <td>b08dad6f71ab9893846defe32ebd2766</td>\n",
       "      <td>True</td>\n",
       "      <td>5</td>\n",
       "      <td></td>\n",
       "      <td>Tue Jul 21 13:32:26 -0700 2015</td>\n",
       "      <td>Tue Jul 21 13:32:32 -0700 2015</td>\n",
       "      <td></td>\n",
       "      <td></td>\n",
       "    </tr>\n",
       "    <tr>\n",
       "      <th>3404</th>\n",
       "      <td>5b31fc1fa8ba1f4e48b3a075e267ad9e</td>\n",
       "      <td>1371</td>\n",
       "      <td>d8740a72d60bc3255852e071dd786400</td>\n",
       "      <td>False</td>\n",
       "      <td>0</td>\n",
       "      <td></td>\n",
       "      <td>Fri Jan 24 20:40:06 -0800 2014</td>\n",
       "      <td>Fri Jan 24 20:40:06 -0800 2014</td>\n",
       "      <td></td>\n",
       "      <td></td>\n",
       "    </tr>\n",
       "    <tr>\n",
       "      <th>2710251</th>\n",
       "      <td>84d5040696c32e59f562f94608efc169</td>\n",
       "      <td>30119</td>\n",
       "      <td>2fb6d95565b0cfc10f1d9ebdaeb030ed</td>\n",
       "      <td>True</td>\n",
       "      <td>5</td>\n",
       "      <td></td>\n",
       "      <td>Tue Jul 25 02:20:37 -0700 2017</td>\n",
       "      <td>Tue Jul 25 02:20:37 -0700 2017</td>\n",
       "      <td></td>\n",
       "      <td></td>\n",
       "    </tr>\n",
       "    <tr>\n",
       "      <th>1944986</th>\n",
       "      <td>7ac2e7e075d5ac72df1ca4ee9f7f0572</td>\n",
       "      <td>46199</td>\n",
       "      <td>56e0b29d347b19c79cb6548b1477bb61</td>\n",
       "      <td>True</td>\n",
       "      <td>3</td>\n",
       "      <td></td>\n",
       "      <td>Fri Aug 05 12:43:56 -0700 2016</td>\n",
       "      <td>Fri Aug 05 12:43:57 -0700 2016</td>\n",
       "      <td></td>\n",
       "      <td></td>\n",
       "    </tr>\n",
       "    <tr>\n",
       "      <th>788209</th>\n",
       "      <td>d3962209cc0fa41f797885167a324fd6</td>\n",
       "      <td>30119</td>\n",
       "      <td>848bd52f65bbacda9d1f7f99e185d49d</td>\n",
       "      <td>False</td>\n",
       "      <td>0</td>\n",
       "      <td></td>\n",
       "      <td>Thu Feb 13 16:01:41 -0800 2014</td>\n",
       "      <td>Thu Feb 13 16:01:41 -0800 2014</td>\n",
       "      <td></td>\n",
       "      <td></td>\n",
       "    </tr>\n",
       "  </tbody>\n",
       "</table>\n",
       "</div>"
      ],
      "text/plain": [
       "                                  user_id   book_id  \\\n",
       "1791717  c5823767a1a164cd8e9d029f1806f2aa  23337740   \n",
       "3404     5b31fc1fa8ba1f4e48b3a075e267ad9e      1371   \n",
       "2710251  84d5040696c32e59f562f94608efc169     30119   \n",
       "1944986  7ac2e7e075d5ac72df1ca4ee9f7f0572     46199   \n",
       "788209   d3962209cc0fa41f797885167a324fd6     30119   \n",
       "\n",
       "                                review_id  is_read  rating  \\\n",
       "1791717  b08dad6f71ab9893846defe32ebd2766     True       5   \n",
       "3404     d8740a72d60bc3255852e071dd786400    False       0   \n",
       "2710251  2fb6d95565b0cfc10f1d9ebdaeb030ed     True       5   \n",
       "1944986  56e0b29d347b19c79cb6548b1477bb61     True       3   \n",
       "788209   848bd52f65bbacda9d1f7f99e185d49d    False       0   \n",
       "\n",
       "        review_text_incomplete                      date_added  \\\n",
       "1791717                         Tue Jul 21 13:32:26 -0700 2015   \n",
       "3404                            Fri Jan 24 20:40:06 -0800 2014   \n",
       "2710251                         Tue Jul 25 02:20:37 -0700 2017   \n",
       "1944986                         Fri Aug 05 12:43:56 -0700 2016   \n",
       "788209                          Thu Feb 13 16:01:41 -0800 2014   \n",
       "\n",
       "                           date_updated read_at started_at  \n",
       "1791717  Tue Jul 21 13:32:32 -0700 2015                     \n",
       "3404     Fri Jan 24 20:40:06 -0800 2014                     \n",
       "2710251  Tue Jul 25 02:20:37 -0700 2017                     \n",
       "1944986  Fri Aug 05 12:43:57 -0700 2016                     \n",
       "788209   Thu Feb 13 16:01:41 -0800 2014                     "
      ]
     },
     "execution_count": 26,
     "metadata": {},
     "output_type": "execute_result"
    }
   ],
   "source": [
    "interactions.sample(5)"
   ]
  },
  {
   "cell_type": "code",
   "execution_count": 27,
   "metadata": {},
   "outputs": [
    {
     "data": {
      "text/plain": [
       "(2734350, 10)"
      ]
     },
     "execution_count": 27,
     "metadata": {},
     "output_type": "execute_result"
    }
   ],
   "source": [
    "interactions.shape"
   ]
  },
  {
   "cell_type": "code",
   "execution_count": 28,
   "metadata": {},
   "outputs": [
    {
     "data": {
      "text/html": [
       "<div>\n",
       "<style scoped>\n",
       "    .dataframe tbody tr th:only-of-type {\n",
       "        vertical-align: middle;\n",
       "    }\n",
       "\n",
       "    .dataframe tbody tr th {\n",
       "        vertical-align: top;\n",
       "    }\n",
       "\n",
       "    .dataframe thead th {\n",
       "        text-align: right;\n",
       "    }\n",
       "</style>\n",
       "<table border=\"1\" class=\"dataframe\">\n",
       "  <thead>\n",
       "    <tr style=\"text-align: right;\">\n",
       "      <th></th>\n",
       "      <th>user_id</th>\n",
       "      <th>book_id</th>\n",
       "      <th>is_read</th>\n",
       "      <th>rating</th>\n",
       "    </tr>\n",
       "  </thead>\n",
       "  <tbody>\n",
       "    <tr>\n",
       "      <th>878462</th>\n",
       "      <td>89e92699758ef55cca1b9971f97c8601</td>\n",
       "      <td>13516581</td>\n",
       "      <td>true</td>\n",
       "      <td>2</td>\n",
       "    </tr>\n",
       "    <tr>\n",
       "      <th>104162</th>\n",
       "      <td>24b358882aa7425f300c80d4ea059c9d</td>\n",
       "      <td>6352248</td>\n",
       "      <td>false</td>\n",
       "      <td>0</td>\n",
       "    </tr>\n",
       "    <tr>\n",
       "      <th>465319</th>\n",
       "      <td>9e3d67e280ffb1f56c61c3de44ae2dea</td>\n",
       "      <td>118285</td>\n",
       "      <td>false</td>\n",
       "      <td>0</td>\n",
       "    </tr>\n",
       "    <tr>\n",
       "      <th>1518326</th>\n",
       "      <td>dbd2f42a7f4ae9852dbc32c48f658ac5</td>\n",
       "      <td>139864</td>\n",
       "      <td>false</td>\n",
       "      <td>0</td>\n",
       "    </tr>\n",
       "    <tr>\n",
       "      <th>908035</th>\n",
       "      <td>8fe45035cd2d98e1f1a555790f27c377</td>\n",
       "      <td>6990156</td>\n",
       "      <td>false</td>\n",
       "      <td>0</td>\n",
       "    </tr>\n",
       "  </tbody>\n",
       "</table>\n",
       "</div>"
      ],
      "text/plain": [
       "                                  user_id   book_id is_read  rating\n",
       "878462   89e92699758ef55cca1b9971f97c8601  13516581    true       2\n",
       "104162   24b358882aa7425f300c80d4ea059c9d   6352248   false       0\n",
       "465319   9e3d67e280ffb1f56c61c3de44ae2dea    118285   false       0\n",
       "1518326  dbd2f42a7f4ae9852dbc32c48f658ac5    139864   false       0\n",
       "908035   8fe45035cd2d98e1f1a555790f27c377   6990156   false       0"
      ]
     },
     "execution_count": 28,
     "metadata": {},
     "output_type": "execute_result"
    }
   ],
   "source": [
    "interactions_selected = interactions[['user_id', 'book_id', 'is_read', 'rating']]\n",
    "booleanDictionary = {True: 'true', False: 'false'}\n",
    "interactions_selected['is_read'] = interactions_selected['is_read'].replace(booleanDictionary)\n",
    "\n",
    "interactions_selected.sample(5)"
   ]
  },
  {
   "cell_type": "code",
   "execution_count": 32,
   "metadata": {},
   "outputs": [
    {
     "data": {
      "application/vnd.jupyter.widget-view+json": {
       "model_id": "fb12bc12c97b43049cf17742b1995d18",
       "version_major": 2,
       "version_minor": 0
      },
      "text/plain": [
       "HBox(children=(FloatProgress(value=0.0, description='Summarize dataset', max=16.0, style=ProgressStyle(descrip…"
      ]
     },
     "metadata": {},
     "output_type": "display_data"
    },
    {
     "name": "stdout",
     "output_type": "stream",
     "text": [
      "\n"
     ]
    },
    {
     "data": {
      "application/vnd.jupyter.widget-view+json": {
       "model_id": "55f06636a52442ba8d4925ca85aaf989",
       "version_major": 2,
       "version_minor": 0
      },
      "text/plain": [
       "HBox(children=(FloatProgress(value=0.0, description='Generate report structure', max=1.0, style=ProgressStyle(…"
      ]
     },
     "metadata": {},
     "output_type": "display_data"
    },
    {
     "name": "stdout",
     "output_type": "stream",
     "text": [
      "\n"
     ]
    },
    {
     "data": {
      "application/vnd.jupyter.widget-view+json": {
       "model_id": "a83ee30345c340b58f7c030ecef66e0d",
       "version_major": 2,
       "version_minor": 0
      },
      "text/plain": [
       "HBox(children=(FloatProgress(value=0.0, description='Render HTML', max=1.0, style=ProgressStyle(description_wi…"
      ]
     },
     "metadata": {},
     "output_type": "display_data"
    },
    {
     "name": "stdout",
     "output_type": "stream",
     "text": [
      "\n"
     ]
    },
    {
     "data": {
      "application/vnd.jupyter.widget-view+json": {
       "model_id": "e19e1056871b4f71be11738c0f3df452",
       "version_major": 2,
       "version_minor": 0
      },
      "text/plain": [
       "HBox(children=(FloatProgress(value=0.0, description='Export report to file', max=1.0, style=ProgressStyle(desc…"
      ]
     },
     "metadata": {},
     "output_type": "display_data"
    },
    {
     "name": "stdout",
     "output_type": "stream",
     "text": [
      "\n"
     ]
    }
   ],
   "source": [
    "profile = pandas_profiling.ProfileReport(interactions_selected[['is_read', 'rating']])\n",
    "profile.to_file('profiler_interactions.html')"
   ]
  },
  {
   "cell_type": "code",
   "execution_count": 33,
   "metadata": {},
   "outputs": [],
   "source": [
    "interactions_selected['is_read'] = interactions_selected.is_read.map(\n",
    "    lambda x: 1.0*(x == 'true'))"
   ]
  },
  {
   "cell_type": "code",
   "execution_count": 34,
   "metadata": {},
   "outputs": [
    {
     "data": {
      "text/html": [
       "<div>\n",
       "<style scoped>\n",
       "    .dataframe tbody tr th:only-of-type {\n",
       "        vertical-align: middle;\n",
       "    }\n",
       "\n",
       "    .dataframe tbody tr th {\n",
       "        vertical-align: top;\n",
       "    }\n",
       "\n",
       "    .dataframe thead th {\n",
       "        text-align: right;\n",
       "    }\n",
       "</style>\n",
       "<table border=\"1\" class=\"dataframe\">\n",
       "  <thead>\n",
       "    <tr style=\"text-align: right;\">\n",
       "      <th></th>\n",
       "      <th>user_id</th>\n",
       "      <th>book_id</th>\n",
       "      <th>is_read</th>\n",
       "      <th>rating</th>\n",
       "    </tr>\n",
       "  </thead>\n",
       "  <tbody>\n",
       "    <tr>\n",
       "      <th>2055404</th>\n",
       "      <td>d1ccf24f9af4f7d12a2a8af9dabbaee5</td>\n",
       "      <td>18079805</td>\n",
       "      <td>0.0</td>\n",
       "      <td>0</td>\n",
       "    </tr>\n",
       "    <tr>\n",
       "      <th>16699</th>\n",
       "      <td>6c43241093fc8157425ff04abed4c0f8</td>\n",
       "      <td>1589254</td>\n",
       "      <td>1.0</td>\n",
       "      <td>5</td>\n",
       "    </tr>\n",
       "    <tr>\n",
       "      <th>742128</th>\n",
       "      <td>6f2de977a0e4f74a051e040b73611a28</td>\n",
       "      <td>157687</td>\n",
       "      <td>0.0</td>\n",
       "      <td>0</td>\n",
       "    </tr>\n",
       "    <tr>\n",
       "      <th>1736057</th>\n",
       "      <td>edac5c19d761cacec641d88544adf75c</td>\n",
       "      <td>1432</td>\n",
       "      <td>1.0</td>\n",
       "      <td>5</td>\n",
       "    </tr>\n",
       "    <tr>\n",
       "      <th>789311</th>\n",
       "      <td>7c19bea1f1ebf109514dff0b40de065e</td>\n",
       "      <td>12009713</td>\n",
       "      <td>0.0</td>\n",
       "      <td>0</td>\n",
       "    </tr>\n",
       "    <tr>\n",
       "      <th>233935</th>\n",
       "      <td>870caad4a81d2c2ad80798d7ab5c794f</td>\n",
       "      <td>16170625</td>\n",
       "      <td>1.0</td>\n",
       "      <td>5</td>\n",
       "    </tr>\n",
       "    <tr>\n",
       "      <th>526688</th>\n",
       "      <td>1a487fc0784807b98980b8aa1cef21a7</td>\n",
       "      <td>76546</td>\n",
       "      <td>0.0</td>\n",
       "      <td>0</td>\n",
       "    </tr>\n",
       "    <tr>\n",
       "      <th>2011979</th>\n",
       "      <td>c768e77bb40a3c214fbc2256ed630a53</td>\n",
       "      <td>6045449</td>\n",
       "      <td>1.0</td>\n",
       "      <td>2</td>\n",
       "    </tr>\n",
       "    <tr>\n",
       "      <th>1240768</th>\n",
       "      <td>7788c676f68044585ba9061fb438d629</td>\n",
       "      <td>23513349</td>\n",
       "      <td>0.0</td>\n",
       "      <td>0</td>\n",
       "    </tr>\n",
       "    <tr>\n",
       "      <th>1363603</th>\n",
       "      <td>9f26f842f72f47d1c849257605770292</td>\n",
       "      <td>676</td>\n",
       "      <td>1.0</td>\n",
       "      <td>5</td>\n",
       "    </tr>\n",
       "  </tbody>\n",
       "</table>\n",
       "</div>"
      ],
      "text/plain": [
       "                                  user_id   book_id  is_read  rating\n",
       "2055404  d1ccf24f9af4f7d12a2a8af9dabbaee5  18079805      0.0       0\n",
       "16699    6c43241093fc8157425ff04abed4c0f8   1589254      1.0       5\n",
       "742128   6f2de977a0e4f74a051e040b73611a28    157687      0.0       0\n",
       "1736057  edac5c19d761cacec641d88544adf75c      1432      1.0       5\n",
       "789311   7c19bea1f1ebf109514dff0b40de065e  12009713      0.0       0\n",
       "233935   870caad4a81d2c2ad80798d7ab5c794f  16170625      1.0       5\n",
       "526688   1a487fc0784807b98980b8aa1cef21a7     76546      0.0       0\n",
       "2011979  c768e77bb40a3c214fbc2256ed630a53   6045449      1.0       2\n",
       "1240768  7788c676f68044585ba9061fb438d629  23513349      0.0       0\n",
       "1363603  9f26f842f72f47d1c849257605770292       676      1.0       5"
      ]
     },
     "execution_count": 34,
     "metadata": {},
     "output_type": "execute_result"
    }
   ],
   "source": [
    "interactions_selected.sample(10)"
   ]
  },
  {
   "cell_type": "code",
   "execution_count": 35,
   "metadata": {},
   "outputs": [
    {
     "data": {
      "text/html": [
       "<div>\n",
       "<style scoped>\n",
       "    .dataframe tbody tr th:only-of-type {\n",
       "        vertical-align: middle;\n",
       "    }\n",
       "\n",
       "    .dataframe tbody tr th {\n",
       "        vertical-align: top;\n",
       "    }\n",
       "\n",
       "    .dataframe thead th {\n",
       "        text-align: right;\n",
       "    }\n",
       "</style>\n",
       "<table border=\"1\" class=\"dataframe\">\n",
       "  <thead>\n",
       "    <tr style=\"text-align: right;\">\n",
       "      <th>rating</th>\n",
       "      <th>0</th>\n",
       "      <th>1</th>\n",
       "      <th>2</th>\n",
       "      <th>3</th>\n",
       "      <th>4</th>\n",
       "      <th>5</th>\n",
       "    </tr>\n",
       "    <tr>\n",
       "      <th>is_read</th>\n",
       "      <th></th>\n",
       "      <th></th>\n",
       "      <th></th>\n",
       "      <th></th>\n",
       "      <th></th>\n",
       "      <th></th>\n",
       "    </tr>\n",
       "  </thead>\n",
       "  <tbody>\n",
       "    <tr>\n",
       "      <th>0.0</th>\n",
       "      <td>1420740.0</td>\n",
       "      <td>NaN</td>\n",
       "      <td>NaN</td>\n",
       "      <td>NaN</td>\n",
       "      <td>NaN</td>\n",
       "      <td>NaN</td>\n",
       "    </tr>\n",
       "    <tr>\n",
       "      <th>1.0</th>\n",
       "      <td>84551.0</td>\n",
       "      <td>20497.0</td>\n",
       "      <td>64084.0</td>\n",
       "      <td>237942.0</td>\n",
       "      <td>405565.0</td>\n",
       "      <td>500971.0</td>\n",
       "    </tr>\n",
       "  </tbody>\n",
       "</table>\n",
       "</div>"
      ],
      "text/plain": [
       "rating           0        1        2         3         4         5\n",
       "is_read                                                           \n",
       "0.0      1420740.0      NaN      NaN       NaN       NaN       NaN\n",
       "1.0        84551.0  20497.0  64084.0  237942.0  405565.0  500971.0"
      ]
     },
     "execution_count": 35,
     "metadata": {},
     "output_type": "execute_result"
    }
   ],
   "source": [
    "interactions_selected.groupby(['rating', 'is_read']).size().reset_index().pivot(columns = 'rating', index = 'is_read', values = 0)"
   ]
  },
  {
   "cell_type": "code",
   "execution_count": 36,
   "metadata": {},
   "outputs": [
    {
     "data": {
      "text/html": [
       "<div>\n",
       "<style scoped>\n",
       "    .dataframe tbody tr th:only-of-type {\n",
       "        vertical-align: middle;\n",
       "    }\n",
       "\n",
       "    .dataframe tbody tr th {\n",
       "        vertical-align: top;\n",
       "    }\n",
       "\n",
       "    .dataframe thead th {\n",
       "        text-align: right;\n",
       "    }\n",
       "</style>\n",
       "<table border=\"1\" class=\"dataframe\">\n",
       "  <thead>\n",
       "    <tr style=\"text-align: right;\">\n",
       "      <th></th>\n",
       "      <th>user_id</th>\n",
       "      <th>book_id</th>\n",
       "      <th>rating</th>\n",
       "    </tr>\n",
       "  </thead>\n",
       "  <tbody>\n",
       "    <tr>\n",
       "      <th>2542635</th>\n",
       "      <td>cdbb6210e92ce74536df17bfb8e55d54</td>\n",
       "      <td>23919</td>\n",
       "      <td>4</td>\n",
       "    </tr>\n",
       "    <tr>\n",
       "      <th>2346441</th>\n",
       "      <td>c46b4e1326ec5cf30685c7ecdeed92ca</td>\n",
       "      <td>32053</td>\n",
       "      <td>4</td>\n",
       "    </tr>\n",
       "    <tr>\n",
       "      <th>2479645</th>\n",
       "      <td>ae51eeb65d388b0adb8cdd3d87d3ba41</td>\n",
       "      <td>7824768</td>\n",
       "      <td>0</td>\n",
       "    </tr>\n",
       "    <tr>\n",
       "      <th>1770206</th>\n",
       "      <td>56b0b3202f94c48ee5c9154a11ee14aa</td>\n",
       "      <td>11747831</td>\n",
       "      <td>4</td>\n",
       "    </tr>\n",
       "    <tr>\n",
       "      <th>1517640</th>\n",
       "      <td>65bd653064c171b654adffc610502ee4</td>\n",
       "      <td>1381</td>\n",
       "      <td>5</td>\n",
       "    </tr>\n",
       "    <tr>\n",
       "      <th>410072</th>\n",
       "      <td>a648278f5d4eb1c1722888792b2958c4</td>\n",
       "      <td>508192</td>\n",
       "      <td>4</td>\n",
       "    </tr>\n",
       "    <tr>\n",
       "      <th>1682794</th>\n",
       "      <td>bb8a48d2e08411deb01351ba723d7bdb</td>\n",
       "      <td>1371</td>\n",
       "      <td>3</td>\n",
       "    </tr>\n",
       "    <tr>\n",
       "      <th>1176586</th>\n",
       "      <td>17a6ab8d07d16fad518b058882395631</td>\n",
       "      <td>2168850</td>\n",
       "      <td>5</td>\n",
       "    </tr>\n",
       "    <tr>\n",
       "      <th>2656237</th>\n",
       "      <td>2980cf0859c347e314d5401d3fe407bd</td>\n",
       "      <td>5289</td>\n",
       "      <td>5</td>\n",
       "    </tr>\n",
       "    <tr>\n",
       "      <th>751696</th>\n",
       "      <td>70bc0acefbfa9f2eaadff9c33a4ce7f8</td>\n",
       "      <td>89220</td>\n",
       "      <td>5</td>\n",
       "    </tr>\n",
       "  </tbody>\n",
       "</table>\n",
       "</div>"
      ],
      "text/plain": [
       "                                  user_id   book_id  rating\n",
       "2542635  cdbb6210e92ce74536df17bfb8e55d54     23919       4\n",
       "2346441  c46b4e1326ec5cf30685c7ecdeed92ca     32053       4\n",
       "2479645  ae51eeb65d388b0adb8cdd3d87d3ba41   7824768       0\n",
       "1770206  56b0b3202f94c48ee5c9154a11ee14aa  11747831       4\n",
       "1517640  65bd653064c171b654adffc610502ee4      1381       5\n",
       "410072   a648278f5d4eb1c1722888792b2958c4    508192       4\n",
       "1682794  bb8a48d2e08411deb01351ba723d7bdb      1371       3\n",
       "1176586  17a6ab8d07d16fad518b058882395631   2168850       5\n",
       "2656237  2980cf0859c347e314d5401d3fe407bd      5289       5\n",
       "751696   70bc0acefbfa9f2eaadff9c33a4ce7f8     89220       5"
      ]
     },
     "execution_count": 36,
     "metadata": {},
     "output_type": "execute_result"
    }
   ],
   "source": [
    "import random\n",
    "\n",
    "interactions_selected = interactions_selected.loc[interactions_selected['is_read']==1, ['user_id', 'book_id', 'rating']]\n",
    "interactions_selected = interactions_selected[interactions_selected['user_id'].isin(random.sample(list(interactions_selected['user_id'].unique()), \n",
    "                                                                                                  k = 5000))]\n",
    "interactions_selected.sample(10)"
   ]
  },
  {
   "cell_type": "code",
   "execution_count": 37,
   "metadata": {},
   "outputs": [
    {
     "data": {
      "text/plain": [
       "(23894, 3)"
      ]
     },
     "execution_count": 37,
     "metadata": {},
     "output_type": "execute_result"
    }
   ],
   "source": [
    "interactions_selected.shape"
   ]
  },
  {
   "cell_type": "code",
   "execution_count": 38,
   "metadata": {},
   "outputs": [],
   "source": [
    "item_dict ={}\n",
    "df = books_metadata[['book_id', 'title']].sort_values('book_id').reset_index()\n",
    "\n",
    "for i in range(df.shape[0]):\n",
    "    item_dict[(df.loc[i,'book_id'])] = df.loc[i,'title']"
   ]
  },
  {
   "cell_type": "code",
   "execution_count": 39,
   "metadata": {},
   "outputs": [
    {
     "data": {
      "text/html": [
       "<div>\n",
       "<style scoped>\n",
       "    .dataframe tbody tr th:only-of-type {\n",
       "        vertical-align: middle;\n",
       "    }\n",
       "\n",
       "    .dataframe tbody tr th {\n",
       "        vertical-align: top;\n",
       "    }\n",
       "\n",
       "    .dataframe thead th {\n",
       "        text-align: right;\n",
       "    }\n",
       "</style>\n",
       "<table border=\"1\" class=\"dataframe\">\n",
       "  <thead>\n",
       "    <tr style=\"text-align: right;\">\n",
       "      <th></th>\n",
       "      <th>book_id</th>\n",
       "      <th>average_rating_0.0</th>\n",
       "      <th>average_rating_1.0</th>\n",
       "      <th>average_rating_1.5</th>\n",
       "      <th>average_rating_2.0</th>\n",
       "      <th>average_rating_2.5</th>\n",
       "      <th>average_rating_3.0</th>\n",
       "      <th>average_rating_3.5</th>\n",
       "      <th>average_rating_4.0</th>\n",
       "      <th>average_rating_4.5</th>\n",
       "      <th>...</th>\n",
       "      <th>language_code_tel</th>\n",
       "      <th>language_code_tgl</th>\n",
       "      <th>language_code_tha</th>\n",
       "      <th>language_code_tlh</th>\n",
       "      <th>language_code_tur</th>\n",
       "      <th>language_code_ukr</th>\n",
       "      <th>language_code_unknown</th>\n",
       "      <th>language_code_urd</th>\n",
       "      <th>language_code_vie</th>\n",
       "      <th>language_code_zho</th>\n",
       "    </tr>\n",
       "  </thead>\n",
       "  <tbody>\n",
       "    <tr>\n",
       "      <th>0</th>\n",
       "      <td>234</td>\n",
       "      <td>0</td>\n",
       "      <td>0</td>\n",
       "      <td>0</td>\n",
       "      <td>0</td>\n",
       "      <td>0</td>\n",
       "      <td>0</td>\n",
       "      <td>0</td>\n",
       "      <td>1</td>\n",
       "      <td>0</td>\n",
       "      <td>...</td>\n",
       "      <td>0</td>\n",
       "      <td>0</td>\n",
       "      <td>0</td>\n",
       "      <td>0</td>\n",
       "      <td>0</td>\n",
       "      <td>0</td>\n",
       "      <td>1</td>\n",
       "      <td>0</td>\n",
       "      <td>0</td>\n",
       "      <td>0</td>\n",
       "    </tr>\n",
       "    <tr>\n",
       "      <th>1</th>\n",
       "      <td>236</td>\n",
       "      <td>0</td>\n",
       "      <td>0</td>\n",
       "      <td>0</td>\n",
       "      <td>0</td>\n",
       "      <td>0</td>\n",
       "      <td>0</td>\n",
       "      <td>0</td>\n",
       "      <td>1</td>\n",
       "      <td>0</td>\n",
       "      <td>...</td>\n",
       "      <td>0</td>\n",
       "      <td>0</td>\n",
       "      <td>0</td>\n",
       "      <td>0</td>\n",
       "      <td>0</td>\n",
       "      <td>0</td>\n",
       "      <td>1</td>\n",
       "      <td>0</td>\n",
       "      <td>0</td>\n",
       "      <td>0</td>\n",
       "    </tr>\n",
       "    <tr>\n",
       "      <th>2</th>\n",
       "      <td>241</td>\n",
       "      <td>0</td>\n",
       "      <td>0</td>\n",
       "      <td>0</td>\n",
       "      <td>0</td>\n",
       "      <td>0</td>\n",
       "      <td>0</td>\n",
       "      <td>1</td>\n",
       "      <td>0</td>\n",
       "      <td>0</td>\n",
       "      <td>...</td>\n",
       "      <td>0</td>\n",
       "      <td>0</td>\n",
       "      <td>0</td>\n",
       "      <td>0</td>\n",
       "      <td>0</td>\n",
       "      <td>0</td>\n",
       "      <td>1</td>\n",
       "      <td>0</td>\n",
       "      <td>0</td>\n",
       "      <td>0</td>\n",
       "    </tr>\n",
       "    <tr>\n",
       "      <th>3</th>\n",
       "      <td>244</td>\n",
       "      <td>0</td>\n",
       "      <td>0</td>\n",
       "      <td>0</td>\n",
       "      <td>0</td>\n",
       "      <td>0</td>\n",
       "      <td>0</td>\n",
       "      <td>0</td>\n",
       "      <td>1</td>\n",
       "      <td>0</td>\n",
       "      <td>...</td>\n",
       "      <td>0</td>\n",
       "      <td>0</td>\n",
       "      <td>0</td>\n",
       "      <td>0</td>\n",
       "      <td>0</td>\n",
       "      <td>0</td>\n",
       "      <td>0</td>\n",
       "      <td>0</td>\n",
       "      <td>0</td>\n",
       "      <td>0</td>\n",
       "    </tr>\n",
       "    <tr>\n",
       "      <th>4</th>\n",
       "      <td>254</td>\n",
       "      <td>0</td>\n",
       "      <td>0</td>\n",
       "      <td>0</td>\n",
       "      <td>0</td>\n",
       "      <td>0</td>\n",
       "      <td>0</td>\n",
       "      <td>0</td>\n",
       "      <td>1</td>\n",
       "      <td>0</td>\n",
       "      <td>...</td>\n",
       "      <td>0</td>\n",
       "      <td>0</td>\n",
       "      <td>0</td>\n",
       "      <td>0</td>\n",
       "      <td>0</td>\n",
       "      <td>0</td>\n",
       "      <td>1</td>\n",
       "      <td>0</td>\n",
       "      <td>0</td>\n",
       "      <td>0</td>\n",
       "    </tr>\n",
       "  </tbody>\n",
       "</table>\n",
       "<p>5 rows × 358 columns</p>\n",
       "</div>"
      ],
      "text/plain": [
       "   book_id  average_rating_0.0  average_rating_1.0  average_rating_1.5  \\\n",
       "0      234                   0                   0                   0   \n",
       "1      236                   0                   0                   0   \n",
       "2      241                   0                   0                   0   \n",
       "3      244                   0                   0                   0   \n",
       "4      254                   0                   0                   0   \n",
       "\n",
       "   average_rating_2.0  average_rating_2.5  average_rating_3.0  \\\n",
       "0                   0                   0                   0   \n",
       "1                   0                   0                   0   \n",
       "2                   0                   0                   0   \n",
       "3                   0                   0                   0   \n",
       "4                   0                   0                   0   \n",
       "\n",
       "   average_rating_3.5  average_rating_4.0  average_rating_4.5  ...  \\\n",
       "0                   0                   1                   0  ...   \n",
       "1                   0                   1                   0  ...   \n",
       "2                   1                   0                   0  ...   \n",
       "3                   0                   1                   0  ...   \n",
       "4                   0                   1                   0  ...   \n",
       "\n",
       "   language_code_tel  language_code_tgl  language_code_tha  language_code_tlh  \\\n",
       "0                  0                  0                  0                  0   \n",
       "1                  0                  0                  0                  0   \n",
       "2                  0                  0                  0                  0   \n",
       "3                  0                  0                  0                  0   \n",
       "4                  0                  0                  0                  0   \n",
       "\n",
       "   language_code_tur  language_code_ukr  language_code_unknown  \\\n",
       "0                  0                  0                      1   \n",
       "1                  0                  0                      1   \n",
       "2                  0                  0                      1   \n",
       "3                  0                  0                      0   \n",
       "4                  0                  0                      1   \n",
       "\n",
       "   language_code_urd  language_code_vie  language_code_zho  \n",
       "0                  0                  0                  0  \n",
       "1                  0                  0                  0  \n",
       "2                  0                  0                  0  \n",
       "3                  0                  0                  0  \n",
       "4                  0                  0                  0  \n",
       "\n",
       "[5 rows x 358 columns]"
      ]
     },
     "execution_count": 39,
     "metadata": {},
     "output_type": "execute_result"
    }
   ],
   "source": [
    "books_metadata_selected_transformed = pd.get_dummies(books_metadata_selected, columns = ['average_rating', 'is_ebook', 'num_pages', \n",
    "                                                                                         'publication_year', 'ratings_count', \n",
    "                                                                                         'language_code'])\n",
    "\n",
    "books_metadata_selected_transformed = books_metadata_selected_transformed.sort_values('book_id').reset_index().drop('index', axis=1)\n",
    "books_metadata_selected_transformed.head(5)"
   ]
  },
  {
   "cell_type": "code",
   "execution_count": 40,
   "metadata": {},
   "outputs": [
    {
     "data": {
      "text/plain": [
       "<36514x357 sparse matrix of type '<class 'numpy.uint8'>'\n",
       "\twith 219084 stored elements in Compressed Sparse Row format>"
      ]
     },
     "execution_count": 40,
     "metadata": {},
     "output_type": "execute_result"
    }
   ],
   "source": [
    "books_metadata_csr = csr_matrix(books_metadata_selected_transformed.drop('book_id', axis=1).values)\n",
    "books_metadata_csr"
   ]
  },
  {
   "cell_type": "code",
   "execution_count": 41,
   "metadata": {},
   "outputs": [
    {
     "data": {
      "text/html": [
       "<div>\n",
       "<style scoped>\n",
       "    .dataframe tbody tr th:only-of-type {\n",
       "        vertical-align: middle;\n",
       "    }\n",
       "\n",
       "    .dataframe tbody tr th {\n",
       "        vertical-align: top;\n",
       "    }\n",
       "\n",
       "    .dataframe thead th {\n",
       "        text-align: right;\n",
       "    }\n",
       "</style>\n",
       "<table border=\"1\" class=\"dataframe\">\n",
       "  <thead>\n",
       "    <tr style=\"text-align: right;\">\n",
       "      <th>book_id</th>\n",
       "      <th>234</th>\n",
       "      <th>254</th>\n",
       "      <th>286</th>\n",
       "      <th>289</th>\n",
       "      <th>290</th>\n",
       "      <th>291</th>\n",
       "      <th>292</th>\n",
       "      <th>448</th>\n",
       "      <th>676</th>\n",
       "      <th>1371</th>\n",
       "      <th>...</th>\n",
       "      <th>35606560</th>\n",
       "      <th>35654589</th>\n",
       "      <th>35668923</th>\n",
       "      <th>35670989</th>\n",
       "      <th>35783117</th>\n",
       "      <th>35846198</th>\n",
       "      <th>35896040</th>\n",
       "      <th>35905478</th>\n",
       "      <th>36049650</th>\n",
       "      <th>36126998</th>\n",
       "    </tr>\n",
       "    <tr>\n",
       "      <th>user_id</th>\n",
       "      <th></th>\n",
       "      <th></th>\n",
       "      <th></th>\n",
       "      <th></th>\n",
       "      <th></th>\n",
       "      <th></th>\n",
       "      <th></th>\n",
       "      <th></th>\n",
       "      <th></th>\n",
       "      <th></th>\n",
       "      <th></th>\n",
       "      <th></th>\n",
       "      <th></th>\n",
       "      <th></th>\n",
       "      <th></th>\n",
       "      <th></th>\n",
       "      <th></th>\n",
       "      <th></th>\n",
       "      <th></th>\n",
       "      <th></th>\n",
       "      <th></th>\n",
       "    </tr>\n",
       "  </thead>\n",
       "  <tbody>\n",
       "    <tr>\n",
       "      <th>000200adc5009a722bdee406efe18ea6</th>\n",
       "      <td>0.0</td>\n",
       "      <td>0.0</td>\n",
       "      <td>0.0</td>\n",
       "      <td>0.0</td>\n",
       "      <td>0.0</td>\n",
       "      <td>0.0</td>\n",
       "      <td>0.0</td>\n",
       "      <td>0.0</td>\n",
       "      <td>0.0</td>\n",
       "      <td>0.0</td>\n",
       "      <td>...</td>\n",
       "      <td>0.0</td>\n",
       "      <td>0.0</td>\n",
       "      <td>0.0</td>\n",
       "      <td>0.0</td>\n",
       "      <td>0.0</td>\n",
       "      <td>0.0</td>\n",
       "      <td>0.0</td>\n",
       "      <td>0.0</td>\n",
       "      <td>0.0</td>\n",
       "      <td>0.0</td>\n",
       "    </tr>\n",
       "    <tr>\n",
       "      <th>000883382802f2d95a3dd545bb953882</th>\n",
       "      <td>0.0</td>\n",
       "      <td>0.0</td>\n",
       "      <td>0.0</td>\n",
       "      <td>0.0</td>\n",
       "      <td>0.0</td>\n",
       "      <td>0.0</td>\n",
       "      <td>0.0</td>\n",
       "      <td>0.0</td>\n",
       "      <td>0.0</td>\n",
       "      <td>0.0</td>\n",
       "      <td>...</td>\n",
       "      <td>0.0</td>\n",
       "      <td>0.0</td>\n",
       "      <td>0.0</td>\n",
       "      <td>0.0</td>\n",
       "      <td>0.0</td>\n",
       "      <td>0.0</td>\n",
       "      <td>0.0</td>\n",
       "      <td>0.0</td>\n",
       "      <td>0.0</td>\n",
       "      <td>0.0</td>\n",
       "    </tr>\n",
       "    <tr>\n",
       "      <th>001323f7d91674e9b8b3d4c4e7fd17fc</th>\n",
       "      <td>0.0</td>\n",
       "      <td>0.0</td>\n",
       "      <td>0.0</td>\n",
       "      <td>0.0</td>\n",
       "      <td>0.0</td>\n",
       "      <td>0.0</td>\n",
       "      <td>0.0</td>\n",
       "      <td>0.0</td>\n",
       "      <td>0.0</td>\n",
       "      <td>0.0</td>\n",
       "      <td>...</td>\n",
       "      <td>0.0</td>\n",
       "      <td>0.0</td>\n",
       "      <td>0.0</td>\n",
       "      <td>0.0</td>\n",
       "      <td>0.0</td>\n",
       "      <td>0.0</td>\n",
       "      <td>0.0</td>\n",
       "      <td>0.0</td>\n",
       "      <td>0.0</td>\n",
       "      <td>0.0</td>\n",
       "    </tr>\n",
       "    <tr>\n",
       "      <th>0021909de18ab01ec27517ea8dc0aa93</th>\n",
       "      <td>0.0</td>\n",
       "      <td>0.0</td>\n",
       "      <td>0.0</td>\n",
       "      <td>0.0</td>\n",
       "      <td>0.0</td>\n",
       "      <td>0.0</td>\n",
       "      <td>0.0</td>\n",
       "      <td>0.0</td>\n",
       "      <td>0.0</td>\n",
       "      <td>0.0</td>\n",
       "      <td>...</td>\n",
       "      <td>0.0</td>\n",
       "      <td>0.0</td>\n",
       "      <td>0.0</td>\n",
       "      <td>0.0</td>\n",
       "      <td>0.0</td>\n",
       "      <td>0.0</td>\n",
       "      <td>0.0</td>\n",
       "      <td>0.0</td>\n",
       "      <td>0.0</td>\n",
       "      <td>0.0</td>\n",
       "    </tr>\n",
       "    <tr>\n",
       "      <th>00265ed033c788fce8a86120e55cf253</th>\n",
       "      <td>0.0</td>\n",
       "      <td>0.0</td>\n",
       "      <td>0.0</td>\n",
       "      <td>0.0</td>\n",
       "      <td>0.0</td>\n",
       "      <td>0.0</td>\n",
       "      <td>0.0</td>\n",
       "      <td>0.0</td>\n",
       "      <td>0.0</td>\n",
       "      <td>0.0</td>\n",
       "      <td>...</td>\n",
       "      <td>0.0</td>\n",
       "      <td>0.0</td>\n",
       "      <td>0.0</td>\n",
       "      <td>0.0</td>\n",
       "      <td>0.0</td>\n",
       "      <td>0.0</td>\n",
       "      <td>0.0</td>\n",
       "      <td>0.0</td>\n",
       "      <td>0.0</td>\n",
       "      <td>0.0</td>\n",
       "    </tr>\n",
       "    <tr>\n",
       "      <th>002db785799846c260d69824af6dc36d</th>\n",
       "      <td>0.0</td>\n",
       "      <td>0.0</td>\n",
       "      <td>0.0</td>\n",
       "      <td>0.0</td>\n",
       "      <td>0.0</td>\n",
       "      <td>0.0</td>\n",
       "      <td>0.0</td>\n",
       "      <td>0.0</td>\n",
       "      <td>0.0</td>\n",
       "      <td>0.0</td>\n",
       "      <td>...</td>\n",
       "      <td>0.0</td>\n",
       "      <td>0.0</td>\n",
       "      <td>0.0</td>\n",
       "      <td>0.0</td>\n",
       "      <td>0.0</td>\n",
       "      <td>0.0</td>\n",
       "      <td>0.0</td>\n",
       "      <td>0.0</td>\n",
       "      <td>0.0</td>\n",
       "      <td>0.0</td>\n",
       "    </tr>\n",
       "    <tr>\n",
       "      <th>0036baac32a945baa66252ce5795373f</th>\n",
       "      <td>0.0</td>\n",
       "      <td>0.0</td>\n",
       "      <td>0.0</td>\n",
       "      <td>0.0</td>\n",
       "      <td>0.0</td>\n",
       "      <td>0.0</td>\n",
       "      <td>0.0</td>\n",
       "      <td>0.0</td>\n",
       "      <td>0.0</td>\n",
       "      <td>4.0</td>\n",
       "      <td>...</td>\n",
       "      <td>0.0</td>\n",
       "      <td>0.0</td>\n",
       "      <td>0.0</td>\n",
       "      <td>0.0</td>\n",
       "      <td>0.0</td>\n",
       "      <td>0.0</td>\n",
       "      <td>0.0</td>\n",
       "      <td>0.0</td>\n",
       "      <td>0.0</td>\n",
       "      <td>0.0</td>\n",
       "    </tr>\n",
       "    <tr>\n",
       "      <th>004d435847c22f0325f5f4700b21b00d</th>\n",
       "      <td>0.0</td>\n",
       "      <td>0.0</td>\n",
       "      <td>0.0</td>\n",
       "      <td>0.0</td>\n",
       "      <td>0.0</td>\n",
       "      <td>0.0</td>\n",
       "      <td>0.0</td>\n",
       "      <td>0.0</td>\n",
       "      <td>0.0</td>\n",
       "      <td>5.0</td>\n",
       "      <td>...</td>\n",
       "      <td>0.0</td>\n",
       "      <td>0.0</td>\n",
       "      <td>0.0</td>\n",
       "      <td>0.0</td>\n",
       "      <td>0.0</td>\n",
       "      <td>0.0</td>\n",
       "      <td>0.0</td>\n",
       "      <td>0.0</td>\n",
       "      <td>0.0</td>\n",
       "      <td>0.0</td>\n",
       "    </tr>\n",
       "    <tr>\n",
       "      <th>004fa6050c0916488f5da8d94b1654e5</th>\n",
       "      <td>0.0</td>\n",
       "      <td>0.0</td>\n",
       "      <td>0.0</td>\n",
       "      <td>0.0</td>\n",
       "      <td>0.0</td>\n",
       "      <td>0.0</td>\n",
       "      <td>0.0</td>\n",
       "      <td>0.0</td>\n",
       "      <td>0.0</td>\n",
       "      <td>0.0</td>\n",
       "      <td>...</td>\n",
       "      <td>0.0</td>\n",
       "      <td>0.0</td>\n",
       "      <td>0.0</td>\n",
       "      <td>0.0</td>\n",
       "      <td>0.0</td>\n",
       "      <td>0.0</td>\n",
       "      <td>0.0</td>\n",
       "      <td>0.0</td>\n",
       "      <td>0.0</td>\n",
       "      <td>0.0</td>\n",
       "    </tr>\n",
       "    <tr>\n",
       "      <th>005d83a471aed1691c8447b52ce4baaa</th>\n",
       "      <td>0.0</td>\n",
       "      <td>0.0</td>\n",
       "      <td>0.0</td>\n",
       "      <td>0.0</td>\n",
       "      <td>0.0</td>\n",
       "      <td>0.0</td>\n",
       "      <td>0.0</td>\n",
       "      <td>0.0</td>\n",
       "      <td>0.0</td>\n",
       "      <td>0.0</td>\n",
       "      <td>...</td>\n",
       "      <td>0.0</td>\n",
       "      <td>0.0</td>\n",
       "      <td>0.0</td>\n",
       "      <td>0.0</td>\n",
       "      <td>0.0</td>\n",
       "      <td>0.0</td>\n",
       "      <td>0.0</td>\n",
       "      <td>0.0</td>\n",
       "      <td>0.0</td>\n",
       "      <td>0.0</td>\n",
       "    </tr>\n",
       "  </tbody>\n",
       "</table>\n",
       "<p>10 rows × 7210 columns</p>\n",
       "</div>"
      ],
      "text/plain": [
       "book_id                           234       254       286       289       \\\n",
       "user_id                                                                    \n",
       "000200adc5009a722bdee406efe18ea6       0.0       0.0       0.0       0.0   \n",
       "000883382802f2d95a3dd545bb953882       0.0       0.0       0.0       0.0   \n",
       "001323f7d91674e9b8b3d4c4e7fd17fc       0.0       0.0       0.0       0.0   \n",
       "0021909de18ab01ec27517ea8dc0aa93       0.0       0.0       0.0       0.0   \n",
       "00265ed033c788fce8a86120e55cf253       0.0       0.0       0.0       0.0   \n",
       "002db785799846c260d69824af6dc36d       0.0       0.0       0.0       0.0   \n",
       "0036baac32a945baa66252ce5795373f       0.0       0.0       0.0       0.0   \n",
       "004d435847c22f0325f5f4700b21b00d       0.0       0.0       0.0       0.0   \n",
       "004fa6050c0916488f5da8d94b1654e5       0.0       0.0       0.0       0.0   \n",
       "005d83a471aed1691c8447b52ce4baaa       0.0       0.0       0.0       0.0   \n",
       "\n",
       "book_id                           290       291       292       448       \\\n",
       "user_id                                                                    \n",
       "000200adc5009a722bdee406efe18ea6       0.0       0.0       0.0       0.0   \n",
       "000883382802f2d95a3dd545bb953882       0.0       0.0       0.0       0.0   \n",
       "001323f7d91674e9b8b3d4c4e7fd17fc       0.0       0.0       0.0       0.0   \n",
       "0021909de18ab01ec27517ea8dc0aa93       0.0       0.0       0.0       0.0   \n",
       "00265ed033c788fce8a86120e55cf253       0.0       0.0       0.0       0.0   \n",
       "002db785799846c260d69824af6dc36d       0.0       0.0       0.0       0.0   \n",
       "0036baac32a945baa66252ce5795373f       0.0       0.0       0.0       0.0   \n",
       "004d435847c22f0325f5f4700b21b00d       0.0       0.0       0.0       0.0   \n",
       "004fa6050c0916488f5da8d94b1654e5       0.0       0.0       0.0       0.0   \n",
       "005d83a471aed1691c8447b52ce4baaa       0.0       0.0       0.0       0.0   \n",
       "\n",
       "book_id                           676       1371      ...  35606560  35654589  \\\n",
       "user_id                                               ...                       \n",
       "000200adc5009a722bdee406efe18ea6       0.0       0.0  ...       0.0       0.0   \n",
       "000883382802f2d95a3dd545bb953882       0.0       0.0  ...       0.0       0.0   \n",
       "001323f7d91674e9b8b3d4c4e7fd17fc       0.0       0.0  ...       0.0       0.0   \n",
       "0021909de18ab01ec27517ea8dc0aa93       0.0       0.0  ...       0.0       0.0   \n",
       "00265ed033c788fce8a86120e55cf253       0.0       0.0  ...       0.0       0.0   \n",
       "002db785799846c260d69824af6dc36d       0.0       0.0  ...       0.0       0.0   \n",
       "0036baac32a945baa66252ce5795373f       0.0       4.0  ...       0.0       0.0   \n",
       "004d435847c22f0325f5f4700b21b00d       0.0       5.0  ...       0.0       0.0   \n",
       "004fa6050c0916488f5da8d94b1654e5       0.0       0.0  ...       0.0       0.0   \n",
       "005d83a471aed1691c8447b52ce4baaa       0.0       0.0  ...       0.0       0.0   \n",
       "\n",
       "book_id                           35668923  35670989  35783117  35846198  \\\n",
       "user_id                                                                    \n",
       "000200adc5009a722bdee406efe18ea6       0.0       0.0       0.0       0.0   \n",
       "000883382802f2d95a3dd545bb953882       0.0       0.0       0.0       0.0   \n",
       "001323f7d91674e9b8b3d4c4e7fd17fc       0.0       0.0       0.0       0.0   \n",
       "0021909de18ab01ec27517ea8dc0aa93       0.0       0.0       0.0       0.0   \n",
       "00265ed033c788fce8a86120e55cf253       0.0       0.0       0.0       0.0   \n",
       "002db785799846c260d69824af6dc36d       0.0       0.0       0.0       0.0   \n",
       "0036baac32a945baa66252ce5795373f       0.0       0.0       0.0       0.0   \n",
       "004d435847c22f0325f5f4700b21b00d       0.0       0.0       0.0       0.0   \n",
       "004fa6050c0916488f5da8d94b1654e5       0.0       0.0       0.0       0.0   \n",
       "005d83a471aed1691c8447b52ce4baaa       0.0       0.0       0.0       0.0   \n",
       "\n",
       "book_id                           35896040  35905478  36049650  36126998  \n",
       "user_id                                                                   \n",
       "000200adc5009a722bdee406efe18ea6       0.0       0.0       0.0       0.0  \n",
       "000883382802f2d95a3dd545bb953882       0.0       0.0       0.0       0.0  \n",
       "001323f7d91674e9b8b3d4c4e7fd17fc       0.0       0.0       0.0       0.0  \n",
       "0021909de18ab01ec27517ea8dc0aa93       0.0       0.0       0.0       0.0  \n",
       "00265ed033c788fce8a86120e55cf253       0.0       0.0       0.0       0.0  \n",
       "002db785799846c260d69824af6dc36d       0.0       0.0       0.0       0.0  \n",
       "0036baac32a945baa66252ce5795373f       0.0       0.0       0.0       0.0  \n",
       "004d435847c22f0325f5f4700b21b00d       0.0       0.0       0.0       0.0  \n",
       "004fa6050c0916488f5da8d94b1654e5       0.0       0.0       0.0       0.0  \n",
       "005d83a471aed1691c8447b52ce4baaa       0.0       0.0       0.0       0.0  \n",
       "\n",
       "[10 rows x 7210 columns]"
      ]
     },
     "execution_count": 41,
     "metadata": {},
     "output_type": "execute_result"
    }
   ],
   "source": [
    "user_book_interaction = pd.pivot_table(interactions_selected, index='user_id', columns='book_id', values='rating')\n",
    "user_book_interaction = user_book_interaction.fillna(0)\n",
    "user_book_interaction.head(10)"
   ]
  },
  {
   "cell_type": "code",
   "execution_count": 42,
   "metadata": {},
   "outputs": [],
   "source": [
    "user_id = list(user_book_interaction.index)\n",
    "user_dict = {}\n",
    "counter = 0 \n",
    "for i in user_id:\n",
    "    user_dict[i] = counter\n",
    "    counter += 1"
   ]
  },
  {
   "cell_type": "code",
   "execution_count": 43,
   "metadata": {},
   "outputs": [
    {
     "data": {
      "text/plain": [
       "<5000x7210 sparse matrix of type '<class 'numpy.float64'>'\n",
       "\twith 22313 stored elements in Compressed Sparse Row format>"
      ]
     },
     "execution_count": 43,
     "metadata": {},
     "output_type": "execute_result"
    }
   ],
   "source": [
    "user_book_interaction_csr = csr_matrix(user_book_interaction.values)\n",
    "user_book_interaction_csr"
   ]
  },
  {
   "cell_type": "code",
   "execution_count": 44,
   "metadata": {},
   "outputs": [],
   "source": [
    "model = LightFM(loss='warp',\n",
    "                random_state = 2016,\n",
    "                learning_rate = 0.90,\n",
    "                no_components = 150,\n",
    "                user_alpha = 0.000005)\n",
    "\n",
    "model = model.fit(user_book_interaction_csr,\n",
    "                  epochs = 100,\n",
    "                  num_threads = 16, verbose = False)"
   ]
  },
  {
   "cell_type": "code",
   "execution_count": 45,
   "metadata": {},
   "outputs": [],
   "source": [
    "def sample_recommendation_user(model, interactions, user_id, user_dict, \n",
    "                               item_dict,threshold = 0,nrec_items = 5, show = True):\n",
    "    \n",
    "    n_users, n_items = interactions.shape\n",
    "    user_x = user_dict[user_id]\n",
    "    scores = pd.Series(model.predict(user_x,np.arange(n_items), item_features=books_metadata_csr))\n",
    "    scores.index = interactions.columns\n",
    "    scores = list(pd.Series(scores.sort_values(ascending=False).index))\n",
    "    \n",
    "    known_items = list(pd.Series(interactions.loc[user_id,:] \\\n",
    "                                 [interactions.loc[user_id,:] > threshold].index).sort_values(ascending=False))\n",
    "    \n",
    "    scores = [x for x in scores if x not in known_items]\n",
    "    return_score_list = scores[0:nrec_items]\n",
    "    known_items = list(pd.Series(known_items).apply(lambda x: item_dict[x]))\n",
    "    scores = list(pd.Series(return_score_list).apply(lambda x: item_dict[x]))\n",
    "    if show == True:\n",
    "        print (\"User: \" + str(user_id))\n",
    "        print(\"Known Likes:\")\n",
    "        counter = 1\n",
    "        for i in known_items:\n",
    "            print(str(counter) + '- ' + i)\n",
    "            counter += 1\n",
    "\n",
    "        print(\"\\n Recommended Items:\")\n",
    "        counter = 1\n",
    "        for i in scores:\n",
    "            print(str(counter) + '- ' + i)\n",
    "            counter += 1"
   ]
  },
  {
   "cell_type": "code",
   "execution_count": 57,
   "metadata": {},
   "outputs": [
    {
     "name": "stdout",
     "output_type": "stream",
     "text": [
      "User: 004d435847c22f0325f5f4700b21b00d\n",
      "Known Likes:\n",
      "1- The Raven and Other Poems\n",
      "2- Where the Sidewalk Ends\n",
      "3- A Light in the Attic\n",
      "4- The Iliad\n",
      "\n",
      " Recommended Items:\n",
      "1- The Oresteia\n",
      "2- Metamorphoses\n",
      "3- Selected Poems\n",
      "4- Foolsgold: Making Something from Nothing and Freeing Your Creative Process\n",
      "5- The Waste Land\n"
     ]
    }
   ],
   "source": [
    "sample_recommendation_user(model, user_book_interaction, '004d435847c22f0325f5f4700b21b00d', user_dict, item_dict)"
   ]
  },
  {
   "cell_type": "code",
   "execution_count": null,
   "metadata": {},
   "outputs": [],
   "source": []
  },
  {
   "cell_type": "code",
   "execution_count": null,
   "metadata": {},
   "outputs": [],
   "source": []
  },
  {
   "cell_type": "code",
   "execution_count": null,
   "metadata": {},
   "outputs": [],
   "source": []
  }
 ],
 "metadata": {
  "kernelspec": {
   "display_name": "Python 3",
   "language": "python",
   "name": "python3"
  },
  "language_info": {
   "codemirror_mode": {
    "name": "ipython",
    "version": 3
   },
   "file_extension": ".py",
   "mimetype": "text/x-python",
   "name": "python",
   "nbconvert_exporter": "python",
   "pygments_lexer": "ipython3",
   "version": "3.6.8"
  }
 },
 "nbformat": 4,
 "nbformat_minor": 2
}
