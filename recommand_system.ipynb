{
 "cells": [
  {
   "cell_type": "code",
   "execution_count": 1,
   "metadata": {},
   "outputs": [
    {
     "name": "stderr",
     "output_type": "stream",
     "text": [
      "c:\\program files\\python36\\lib\\site-packages\\lightfm\\_lightfm_fast.py:9: UserWarning: LightFM was compiled without OpenMP support. Only a single thread will be used.\n",
      "  warnings.warn('LightFM was compiled without OpenMP support. '\n"
     ]
    }
   ],
   "source": [
    "import pandas as pd\n",
    "import os\n",
    "from scipy.sparse import csr_matrix\n",
    "import numpy as np\n",
    "from IPython.display import display_html\n",
    "import warnings\n",
    "\n",
    "import matplotlib.pyplot as plt\n",
    "from matplotlib.gridspec import GridSpec\n",
    "import seaborn as sns\n",
    "%matplotlib inline\n",
    "import lightfm\n",
    "from lightfm.cross_validation import random_train_test_split\n",
    "from lightfm.evaluation import auc_score, precision_at_k, recall_at_k\n",
    "from lightfm import LightFM\n",
    "from skopt import forest_minimize\n",
    "\n",
    "def display_side_by_side(*args):\n",
    "    html_str = ''\n",
    "    for df in args:\n",
    "        html_str += df.to_html()\n",
    "    display_html(html_str.replace(\n",
    "        'table', 'table style=\"display:inline\"'), raw = True)"
   ]
  },
  {
   "cell_type": "code",
   "execution_count": null,
   "metadata": {},
   "outputs": [],
   "source": [
    "books_metadata = pd.read_json('c://Users/pr1266/Desktop/recommander_system/goodreads_books_poetry.json', lines=True)\n",
    "interactions = pd.read_json('c://Users/pr1266/Desktop/recommander_system/goodreads_interactions_poetry.json', lines=True)"
   ]
  },
  {
   "cell_type": "code",
   "execution_count": null,
   "metadata": {},
   "outputs": [],
   "source": [
    "books_metadata.columns.values"
   ]
  },
  {
   "cell_type": "code",
   "execution_count": null,
   "metadata": {},
   "outputs": [],
   "source": [
    "books_metadata.sample(2)\n",
    "books_metadata.shape"
   ]
  },
  {
   "cell_type": "code",
   "execution_count": null,
   "metadata": {},
   "outputs": [],
   "source": [
    "books_metadata_selected = books_metadata[['book_id', 'average_rating', 'is_ebook', 'num_pages', \n",
    "                                          'publication_year', 'ratings_count', 'language_code']]\n",
    "books_metadata_selected.sample(5)"
   ]
  },
  {
   "cell_type": "code",
   "execution_count": null,
   "metadata": {},
   "outputs": [],
   "source": [
    "import pandas_profiling\n",
    "import numpy as np\n",
    "\n",
    "books_metadata_selected.replace('', np.nan, inplace=True)\n",
    "profile = pandas_profiling.ProfileReport(books_metadata_selected[['average_rating', 'is_ebook', 'num_pages', \n",
    "                                                                  'publication_year', 'ratings_count']])\n",
    "profile.to_file('profiler_books_metadata_1.html')"
   ]
  },
  {
   "cell_type": "code",
   "execution_count": null,
   "metadata": {},
   "outputs": [],
   "source": [
    "\n",
    "books_metadata_selected['num_pages'].replace(np.nan, -1, inplace = True)\n",
    "books_metadata_selected['num_pages'] = pd.to_numeric(books_metadata_selected['num_pages'])\n",
    "books_metadata_selected['num_pages'] = pd.cut(books_metadata_selected['num_pages'], bins=25)\n",
    "books_metadata_selected['average_rating'] = books_metadata_selected['average_rating'].apply(lambda x: round(x * 2) / 2)\n",
    "books_metadata_selected['ratings_count'] = pd.qcut(books_metadata_selected['ratings_count'], 25)\n",
    "books_metadata_selected['publication_year'].replace(np.nan, 2100, inplace = True)\n",
    "books_metadata_selected['language_code'].replace(np.nan, 'unknown', inplace = True)\n",
    "books_metadata_selected['is_ebook'] = books_metadata_selected.is_ebook.map(\n",
    "    lambda x: 1.0 * (x == 'true'))"
   ]
  },
  {
   "cell_type": "code",
   "execution_count": null,
   "metadata": {},
   "outputs": [],
   "source": [
    "profile = pandas_profiling.ProfileReport(books_metadata_selected[['average_rating', 'is_ebook', 'num_pages', \n",
    "                                                        'publication_year', 'ratings_count']])\n",
    "profile.to_file('profiler_books_metadata_2.html')"
   ]
  },
  {
   "cell_type": "code",
   "execution_count": null,
   "metadata": {},
   "outputs": [],
   "source": [
    "books_metadata_selected.sample(5)"
   ]
  },
  {
   "cell_type": "code",
   "execution_count": null,
   "metadata": {},
   "outputs": [],
   "source": [
    "interactions.columns.values"
   ]
  },
  {
   "cell_type": "code",
   "execution_count": null,
   "metadata": {},
   "outputs": [],
   "source": [
    "interactions.sample(5)"
   ]
  },
  {
   "cell_type": "code",
   "execution_count": null,
   "metadata": {},
   "outputs": [],
   "source": [
    "interactions.shape"
   ]
  },
  {
   "cell_type": "code",
   "execution_count": null,
   "metadata": {},
   "outputs": [],
   "source": [
    "interactions_selected = interactions[['user_id', 'book_id', 'is_read', 'rating']]\n",
    "booleanDictionary = {True: 'true', False: 'false'}\n",
    "interactions_selected['is_read'] = interactions_selected['is_read'].replace(booleanDictionary)\n",
    "\n",
    "interactions_selected.sample(5)"
   ]
  },
  {
   "cell_type": "code",
   "execution_count": null,
   "metadata": {},
   "outputs": [],
   "source": [
    "profile = pandas_profiling.ProfileReport(interactions_selected[['is_read', 'rating']])\n",
    "profile.to_file('profiler_interactions.html')"
   ]
  },
  {
   "cell_type": "code",
   "execution_count": null,
   "metadata": {},
   "outputs": [],
   "source": [
    "interactions_selected['is_read'] = interactions_selected.is_read.map(\n",
    "    lambda x: 1.0*(x == 'true'))"
   ]
  },
  {
   "cell_type": "code",
   "execution_count": null,
   "metadata": {},
   "outputs": [],
   "source": [
    "interactions_selected.sample(10)"
   ]
  },
  {
   "cell_type": "code",
   "execution_count": null,
   "metadata": {},
   "outputs": [],
   "source": [
    "interactions_selected.groupby(['rating', 'is_read']).size().reset_index().pivot(columns = 'rating', index = 'is_read', values = 0)"
   ]
  },
  {
   "cell_type": "code",
   "execution_count": null,
   "metadata": {},
   "outputs": [],
   "source": [
    "import random\n",
    "\n",
    "interactions_selected = interactions_selected.loc[interactions_selected['is_read']==1, ['user_id', 'book_id', 'rating']]\n",
    "interactions_selected = interactions_selected[interactions_selected['user_id'].isin(random.sample(list(interactions_selected['user_id'].unique()), \n",
    "                                                                                                  k = 5000))]\n",
    "interactions_selected.sample(10)"
   ]
  },
  {
   "cell_type": "code",
   "execution_count": null,
   "metadata": {},
   "outputs": [],
   "source": [
    "interactions_selected.shape"
   ]
  },
  {
   "cell_type": "code",
   "execution_count": null,
   "metadata": {},
   "outputs": [],
   "source": [
    "item_dict ={}\n",
    "df = books_metadata[['book_id', 'title']].sort_values('book_id').reset_index()\n",
    "\n",
    "for i in range(df.shape[0]):\n",
    "    item_dict[(df.loc[i,'book_id'])] = df.loc[i,'title']"
   ]
  },
  {
   "cell_type": "code",
   "execution_count": null,
   "metadata": {},
   "outputs": [],
   "source": [
    "books_metadata_selected_transformed = pd.get_dummies(books_metadata_selected, columns = ['average_rating', 'is_ebook', 'num_pages', \n",
    "                                                                                         'publication_year', 'ratings_count', \n",
    "                                                                                         'language_code'])\n",
    "\n",
    "books_metadata_selected_transformed = books_metadata_selected_transformed.sort_values('book_id').reset_index().drop('index', axis=1)\n",
    "books_metadata_selected_transformed.head(5)"
   ]
  },
  {
   "cell_type": "code",
   "execution_count": null,
   "metadata": {},
   "outputs": [],
   "source": [
    "books_metadata_csr = csr_matrix(books_metadata_selected_transformed.drop('book_id', axis=1).values)\n",
    "books_metadata_csr"
   ]
  },
  {
   "cell_type": "code",
   "execution_count": null,
   "metadata": {},
   "outputs": [],
   "source": [
    "user_book_interaction = pd.pivot_table(interactions_selected, index='user_id', columns='book_id', values='rating')\n",
    "user_book_interaction = user_book_interaction.fillna(0)\n",
    "user_book_interaction.head(10)"
   ]
  },
  {
   "cell_type": "code",
   "execution_count": null,
   "metadata": {},
   "outputs": [],
   "source": [
    "user_id = list(user_book_interaction.index)\n",
    "user_dict = {}\n",
    "counter = 0 \n",
    "for i in user_id:\n",
    "    user_dict[i] = counter\n",
    "    counter += 1"
   ]
  },
  {
   "cell_type": "code",
   "execution_count": null,
   "metadata": {},
   "outputs": [],
   "source": [
    "user_book_interaction_csr = csr_matrix(user_book_interaction.values)\n",
    "user_book_interaction_csr"
   ]
  },
  {
   "cell_type": "code",
   "execution_count": null,
   "metadata": {},
   "outputs": [],
   "source": [
    "model = LightFM(loss='warp',\n",
    "                random_state = 2016,\n",
    "                learning_rate = 0.90,\n",
    "                no_components = 150,\n",
    "                user_alpha = 0.000005)\n",
    "\n",
    "model = model.fit(user_book_interaction_csr,\n",
    "                  epochs = 100,\n",
    "                  num_threads = 16, verbose = False)"
   ]
  },
  {
   "cell_type": "code",
   "execution_count": null,
   "metadata": {},
   "outputs": [],
   "source": [
    "def sample_recommendation_user(model, interactions, user_id, user_dict, \n",
    "                               item_dict,threshold = 0,nrec_items = 5, show = True):\n",
    "    \n",
    "    n_users, n_items = interactions.shape\n",
    "    user_x = user_dict[user_id]\n",
    "    scores = pd.Series(model.predict(user_x,np.arange(n_items), item_features=books_metadata_csr))\n",
    "    scores.index = interactions.columns\n",
    "    scores = list(pd.Series(scores.sort_values(ascending=False).index))\n",
    "    \n",
    "    known_items = list(pd.Series(interactions.loc[user_id,:] \\\n",
    "                                 [interactions.loc[user_id,:] > threshold].index).sort_values(ascending=False))\n",
    "    \n",
    "    scores = [x for x in scores if x not in known_items]\n",
    "    return_score_list = scores[0:nrec_items]\n",
    "    known_items = list(pd.Series(known_items).apply(lambda x: item_dict[x]))\n",
    "    scores = list(pd.Series(return_score_list).apply(lambda x: item_dict[x]))\n",
    "    if show == True:\n",
    "        print (\"User: \" + str(user_id))\n",
    "        print(\"Known Likes:\")\n",
    "        counter = 1\n",
    "        for i in known_items:\n",
    "            print(str(counter) + '- ' + i)\n",
    "            counter += 1\n",
    "\n",
    "        print(\"\\n Recommended Items:\")\n",
    "        counter = 1\n",
    "        for i in scores:\n",
    "            print(str(counter) + '- ' + i)\n",
    "            counter += 1"
   ]
  },
  {
   "cell_type": "code",
   "execution_count": null,
   "metadata": {},
   "outputs": [],
   "source": [
    "sample_recommendation_user(model, user_book_interaction, '004d435847c22f0325f5f4700b21b00d', user_dict, item_dict)"
   ]
  },
  {
   "cell_type": "code",
   "execution_count": null,
   "metadata": {},
   "outputs": [],
   "source": []
  },
  {
   "cell_type": "code",
   "execution_count": null,
   "metadata": {},
   "outputs": [],
   "source": []
  },
  {
   "cell_type": "code",
   "execution_count": null,
   "metadata": {},
   "outputs": [],
   "source": []
  }
 ],
 "metadata": {
  "kernelspec": {
   "display_name": "Python 3",
   "language": "python",
   "name": "python3"
  },
  "language_info": {
   "codemirror_mode": {
    "name": "ipython",
    "version": 3
   },
   "file_extension": ".py",
   "mimetype": "text/x-python",
   "name": "python",
   "nbconvert_exporter": "python",
   "pygments_lexer": "ipython3",
   "version": "3.6.8"
  }
 },
 "nbformat": 4,
 "nbformat_minor": 2
}
